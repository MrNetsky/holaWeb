{
 "cells": [
  {
   "cell_type": "markdown",
   "metadata": {},
   "source": [
    "¡Pruebas!"
   ]
  },
  {
   "cell_type": "code",
   "execution_count": null,
   "metadata": {},
   "outputs": [
    {
     "name": "stdout",
     "output_type": "stream",
     "text": [
      "Clave correcta\n"
     ]
    }
   ],
   "source": [
    "clave = '123abc'\n",
    "intentos = 1\n",
    "ingreso = str(input('Ingresa la clave por favor: '))\n",
    "\n",
    "while ingreso != clave:\n",
    "    print('Clave incorrecta.')\n",
    "    intentos += 1\n",
    "    ingreso = str(input('Ingresa la clave, nuevamente por favor: '))\n",
    "    if intentos == 3:\n",
    "        print('Acceso denegado, demasiados intentos.')\n",
    "        break\n",
    "else:\n",
    "    print('Acceso permitido.')"
   ]
  }
 ],
 "metadata": {
  "kernelspec": {
   "display_name": "Python 3",
   "language": "python",
   "name": "python3"
  },
  "language_info": {
   "codemirror_mode": {
    "name": "ipython",
    "version": 3
   },
   "file_extension": ".py",
   "mimetype": "text/x-python",
   "name": "python",
   "nbconvert_exporter": "python",
   "pygments_lexer": "ipython3",
   "version": "3.11.4"
  }
 },
 "nbformat": 4,
 "nbformat_minor": 2
}
